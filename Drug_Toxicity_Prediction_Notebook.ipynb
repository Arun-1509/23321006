{
  "cells": [
    {
      "cell_type": "markdown",
      "metadata": {
        "id": "view-in-github",
        "colab_type": "text"
      },
      "source": [
        "<a href=\"https://colab.research.google.com/github/Arun-1509/23321006/blob/main/Drug_Toxicity_Prediction_Notebook.ipynb\" target=\"_parent\"><img src=\"https://colab.research.google.com/assets/colab-badge.svg\" alt=\"Open In Colab\"/></a>"
      ]
    },
    {
      "source": [
        "# IMPORTANT: RUN THIS CELL IN ORDER TO IMPORT YOUR KAGGLE DATA SOURCES,\n",
        "# THEN FEEL FREE TO DELETE THIS CELL.\n",
        "# NOTE: THIS NOTEBOOK ENVIRONMENT DIFFERS FROM KAGGLE'S PYTHON\n",
        "# ENVIRONMENT SO THERE MAY BE MISSING LIBRARIES USED BY YOUR\n",
        "# NOTEBOOK.\n",
        "import kagglehub\n",
        "sohamshee_drug_molecular_toxicity_dataset_path = kagglehub.dataset_download('sohamshee/drug-molecular-toxicity-dataset')\n",
        "\n",
        "print('Data source import complete.')\n"
      ],
      "metadata": {
        "id": "VyYmy2yX7DBa"
      },
      "cell_type": "code",
      "outputs": [],
      "execution_count": null,
      "id": "VyYmy2yX7DBa"
    },
    {
      "cell_type": "markdown",
      "id": "6a26889c",
      "metadata": {
        "id": "6a26889c"
      },
      "source": [
        "<img src=\"https://devra.ai/analyst/notebook/1845/image.jpg\" style=\"width: 100%; height: auto;\" />"
      ]
    },
    {
      "cell_type": "markdown",
      "id": "eaf76663",
      "metadata": {
        "id": "eaf76663"
      },
      "source": [
        "<div style=\"text-align:center; border-radius:15px; padding:15px; color:white; margin:0; font-family: 'Orbitron', sans-serif; background: #2E0249; background: #11001C; box-shadow: 0px 4px 8px rgba(0, 0, 0, 0.3); overflow:hidden; margin-bottom: 1em;\"><div style=\"font-size:150%; color:#FEE100\"><b>Drug Molecular Toxicity Prediction and Analysis Notebook</b></div><div>This notebook was created with the help of <a href=\"https://devra.ai/ref/kaggle\" style=\"color:#6666FF\">Devra AI</a></div></div>\n",
        "\n",
        "This notebook embarks on a journey to explore the intriguing world of drug molecular toxicity. Our analysis leverages chemistry-inspired feature extraction techniques and predictive modeling to shed light on the toxicity potential of molecules. If you find these insights useful, please consider upvoting."
      ]
    },
    {
      "cell_type": "markdown",
      "id": "16434f2c",
      "metadata": {
        "id": "16434f2c"
      },
      "source": [
        "## Table of Contents\n",
        "\n",
        "- [Setup and Imports](#Setup-and-Imports)\n",
        "- [Data Loading](#Data-Loading)\n",
        "- [Data Cleaning and Preprocessing](#Data-Cleaning-and-Preprocessing)\n",
        "- [Feature Extraction](#Feature-Extraction)\n",
        "- [Exploratory Data Analysis](#Exploratory-Data-Analysis)\n",
        "- [Predictive Modeling and Evaluation](#Predictive-Modeling-and-Evaluation)\n",
        "- [Conclusion and Future Work](#Conclusion-and-Future-Work)"
      ]
    },
    {
      "cell_type": "code",
      "execution_count": null,
      "id": "edaab2a2",
      "metadata": {
        "id": "edaab2a2"
      },
      "outputs": [],
      "source": [
        "# Suppress warnings\n",
        "import warnings\n",
        "warnings.filterwarnings('ignore')\n",
        "\n",
        "# Set matplotlib backend and inline plotting for Kaggle\n",
        "import matplotlib\n",
        "matplotlib.use('Agg')\n",
        "import matplotlib.pyplot as plt\n",
        "plt.switch_backend('Agg')\n",
        "\n",
        "# Ensure inline plotting\n",
        "%matplotlib inline\n",
        "\n",
        "import numpy as np\n",
        "import pandas as pd\n",
        "import seaborn as sns\n",
        "\n",
        "# For predictive modeling\n",
        "from sklearn.linear_model import LogisticRegression\n",
        "from sklearn.metrics import accuracy_score, confusion_matrix, roc_curve, auc\n",
        "\n",
        "# For permutation importance\n",
        "from sklearn.inspection import permutation_importance\n",
        "\n",
        "# Attempt to import RDKit for chemistry-related feature extraction\n",
        "try:\n",
        "    from rdkit import Chem\n",
        "    from rdkit.Chem import Descriptors, Crippen\n",
        "    rdkit_available = True\n",
        "except ModuleNotFoundError:\n",
        "    rdkit_available = False\n",
        "    print('RDKit module not found. Please ensure RDKit is installed to extract chemical descriptors reliably.')\n",
        "\n",
        "# Set seaborn plotting style\n",
        "sns.set(style='whitegrid', palette='muted', color_codes=True)"
      ]
    },
    {
      "cell_type": "code",
      "execution_count": null,
      "id": "0c133e8c",
      "metadata": {
        "id": "0c133e8c"
      },
      "outputs": [],
      "source": [
        "# Data Loading\n",
        "# The dataset is split into separate files for SMILES strings and toxicity labels for training and testing.\n",
        "\n",
        "# Load training SMILES data\n",
        "train_smiles_df = pd.read_csv('/kaggle/input/drug-molecular-toxicity-dataset/names_smiles_train.csv',\n",
        "                             encoding='ascii')\n",
        "\n",
        "# Load training labels\n",
        "train_labels_df = pd.read_csv('/kaggle/input/drug-molecular-toxicity-dataset/names_labels_train.csv',\n",
        "                              encoding='ascii')\n",
        "\n",
        "# Load testing SMILES data\n",
        "test_smiles_df = pd.read_csv('/kaggle/input/drug-molecular-toxicity-dataset/names_smiles_test.csv',\n",
        "                            encoding='ascii')\n",
        "\n",
        "# Load testing labels\n",
        "test_labels_df = pd.read_csv('/kaggle/input/drug-molecular-toxicity-dataset/names_labels_test.csv',\n",
        "                            encoding='ascii')\n",
        "\n",
        "print('Data loading complete.')"
      ]
    },
    {
      "cell_type": "code",
      "execution_count": null,
      "id": "ddbe1a68",
      "metadata": {
        "id": "ddbe1a68"
      },
      "outputs": [],
      "source": [
        "# Data Cleaning and Preprocessing\n",
        "# The training SMILES and labels data share a common column. However, the column names are based on molecule identifiers.\n",
        "# We rename these columns to simplify merging and subsequent analysis.\n",
        "\n",
        "# For training set\n",
        "train_smiles_df = train_smiles_df.rename(columns={train_smiles_df.columns[0]: 'molecule_id',\n",
        "                                                  train_smiles_df.columns[1]: 'smiles'})\n",
        "train_labels_df = train_labels_df.rename(columns={train_labels_df.columns[0]: 'molecule_id',\n",
        "                                                  train_labels_df.columns[1]: 'label'})\n",
        "\n",
        "# Merge training data on molecule_id\n",
        "train_df = pd.merge(train_smiles_df, train_labels_df, on='molecule_id')\n",
        "\n",
        "# For testing set\n",
        "test_smiles_df = test_smiles_df.rename(columns={test_smiles_df.columns[0]: 'molecule_id',\n",
        "                                                test_smiles_df.columns[1]: 'smiles'})\n",
        "test_labels_df = test_labels_df.rename(columns={test_labels_df.columns[0]: 'molecule_id',\n",
        "                                                test_labels_df.columns[1]: 'label'})\n",
        "\n",
        "test_df = pd.merge(test_smiles_df, test_labels_df, on='molecule_id')\n",
        "\n",
        "print('Training and testing data merged.')\n",
        "# Display the first few rows of the training data for verification (this output will be generated at runtime)"
      ]
    },
    {
      "cell_type": "code",
      "execution_count": null,
      "id": "3c537964",
      "metadata": {
        "id": "3c537964"
      },
      "outputs": [],
      "source": [
        "# Feature Extraction\n",
        "# If RDKit is available, we will extract chemical descriptors such as Molecular Weight, LogP, the number of hydrogen donors and acceptors.\n",
        "# These descriptors are widely used in cheminformatics, and can offer insight into the molecular properties related to toxicity.\n",
        "\n",
        "def compute_descriptors(smiles):\n",
        "    '''\n",
        "    Computes selected chemical descriptors given a SMILES string. If RDKit is not available,\n",
        "    returns a dictionary of NaNs.\n",
        "    '''\n",
        "    if rdkit_available:\n",
        "        try:\n",
        "            mol = Chem.MolFromSmiles(smiles)\n",
        "            if mol is not None:\n",
        "                desc = {\n",
        "                    'MolWt': Descriptors.MolWt(mol),\n",
        "                    'LogP': Descriptors.MolLogP(mol),\n",
        "                    'NumHDonors': Descriptors.NumHDonors(mol),\n",
        "                    'NumHAcceptors': Descriptors.NumHAcceptors(mol)\n",
        "                }\n",
        "            else:\n",
        "                desc = {'MolWt': np.nan, 'LogP': np.nan, 'NumHDonors': np.nan, 'NumHAcceptors': np.nan}\n",
        "        except Exception as e:\n",
        "            # Logging the error for this molecule, as similar errors might be encountered by other users\n",
        "            print(f'Error computing descriptors for SMILES {smiles}: {e}')\n",
        "            desc = {'MolWt': np.nan, 'LogP': np.nan, 'NumHDonors': np.nan, 'NumHAcceptors': np.nan}\n",
        "    else:\n",
        "        # If RDKit is not installed, use a fallback descriptor based on the length of the SMILES string\n",
        "        desc = {\n",
        "            'MolWt': len(smiles),\n",
        "            'LogP': len(smiles) / 10.0,\n",
        "            'NumHDonors': len([c for c in smiles if c == 'N']),\n",
        "            'NumHAcceptors': len([c for c in smiles if c == 'O'])\n",
        "        }\n",
        "    return desc\n",
        "\n",
        "# Apply descriptor computation to the training set\n",
        "descriptor_list = []\n",
        "for s in train_df['smiles']:\n",
        "    descriptor_list.append(compute_descriptors(s))\n",
        "\n",
        "descriptors_df = pd.DataFrame(descriptor_list)\n",
        "\n",
        "# Concatenate the descriptors with the original dataframe\n",
        "train_df = pd.concat([train_df.reset_index(drop=True), descriptors_df.reset_index(drop=True)], axis=1)\n",
        "\n",
        "print('Feature extraction complete. Descriptors computed and added to training dataframe.')"
      ]
    },
    {
      "cell_type": "code",
      "execution_count": null,
      "id": "ec3151bb",
      "metadata": {
        "id": "ec3151bb"
      },
      "outputs": [],
      "source": [
        "# Exploratory Data Analysis\n",
        "# We now perform a series of exploratory visualizations to understand the distribution of the descriptors\n",
        "# and their relation to the toxicity label.\n",
        "\n",
        "numeric_df = train_df.select_dtypes(include=[np.number])\n",
        "\n",
        "# Check if we have enough numeric columns (at least 4) to compute a correlation heatmap\n",
        "if numeric_df.shape[1] >= 4:\n",
        "    plt.figure(figsize=(8, 6))\n",
        "    corr = numeric_df.corr()\n",
        "    sns.heatmap(corr, annot=True, cmap='coolwarm')\n",
        "    plt.title('Correlation Heatmap of Numeric Features')\n",
        "    plt.show()\n",
        "else:\n",
        "    print('Not enough numeric features for a meaningful correlation heatmap.')\n",
        "\n",
        "# Pair Plot of descriptors colored by toxicity label\n",
        "sns.pairplot(train_df, vars=['MolWt', 'LogP', 'NumHDonors', 'NumHAcceptors'], hue='label')\n",
        "plt.show()\n",
        "\n",
        "# Histograms for each descriptor\n",
        "for col in ['MolWt', 'LogP', 'NumHDonors', 'NumHAcceptors']:\n",
        "    sns.histplot(train_df[col].dropna(), kde=True)\n",
        "    plt.title(f'Histogram of {col}')\n",
        "    plt.show()\n",
        "\n",
        "# Count Plot (Pie Chart equivalent) for the toxicity label\n",
        "sns.countplot(x='label', data=train_df)\n",
        "plt.title('Distribution of Toxicity Labels')\n",
        "plt.show()"
      ]
    },
    {
      "cell_type": "code",
      "execution_count": null,
      "id": "c595ee23",
      "metadata": {
        "id": "c595ee23"
      },
      "outputs": [],
      "source": [
        "# Predictive Modeling and Evaluation\n",
        "# We will build a simple logistic regression classifier using the computed chemical descriptors\n",
        "# as features and the binary toxicity label as the target. We then evaluate its performance\n",
        "# using accuracy, confusion matrix, ROC curve and permutation importance for feature relevance.\n",
        "\n",
        "# Define feature columns and target\n",
        "features = ['MolWt', 'LogP', 'NumHDonors', 'NumHAcceptors']\n",
        "target = 'label'\n",
        "\n",
        "# Prepare training data (dropping any rows with missing descriptor values)\n",
        "train_model_df = train_df.dropna(subset=features + [target])\n",
        "\n",
        "X_train = train_model_df[features]\n",
        "y_train = train_model_df[target]\n",
        "\n",
        "# Initialize and train the logistic regression model\n",
        "model = LogisticRegression(max_iter=1000)\n",
        "model.fit(X_train, y_train)\n",
        "\n",
        "# Predict on training data (note: in a real setting, cross-validation or a hold-out set would be more appropriate)\n",
        "y_pred = model.predict(X_train)\n",
        "\n",
        "# Compute accuracy\n",
        "accuracy = accuracy_score(y_train, y_pred)\n",
        "print(f'Training Accuracy: {accuracy:.4f}')\n",
        "\n",
        "# Confusion Matrix\n",
        "cm = confusion_matrix(y_train, y_pred)\n",
        "plt.figure(figsize=(6, 4))\n",
        "sns.heatmap(cm, annot=True, fmt='d', cmap='YlGnBu')\n",
        "plt.xlabel('Predicted')\n",
        "plt.ylabel('Actual')\n",
        "plt.title('Confusion Matrix')\n",
        "plt.show()\n",
        "\n",
        "# ROC Curve\n",
        "y_probs = model.predict_proba(X_train)[:, 1]\n",
        "fpr, tpr, thresholds = roc_curve(y_train, y_probs)\n",
        "roc_auc = auc(fpr, tpr)\n",
        "plt.figure(figsize=(6, 4))\n",
        "plt.plot(fpr, tpr, label=f'ROC curve (area = {roc_auc:.2f})')\n",
        "plt.plot([0, 1], [0, 1], linestyle='--', color='gray')\n",
        "plt.xlabel('False Positive Rate')\n",
        "plt.ylabel('True Positive Rate')\n",
        "plt.title('Receiver Operating Characteristic')\n",
        "plt.legend(loc='lower right')\n",
        "plt.show()\n",
        "\n",
        "# Permutation Importance\n",
        "perm_importance = permutation_importance(model, X_train, y_train, n_repeats=10, random_state=42)\n",
        "sorted_idx = perm_importance.importances_mean.argsort()\n",
        "plt.figure(figsize=(6, 4))\n",
        "plt.barh(np.array(features)[sorted_idx], perm_importance.importances_mean[sorted_idx])\n",
        "plt.xlabel('Permutation Importance')\n",
        "plt.title('Feature Importance')\n",
        "plt.show()"
      ]
    },
    {
      "cell_type": "markdown",
      "id": "7952cd3a",
      "metadata": {
        "id": "7952cd3a"
      },
      "source": [
        "## Conclusion and Future Work\n",
        "\n",
        "This notebook demonstrated an exploratory analysis of drug molecular toxicity by combining chemical descriptor extraction with predictive modeling. The use of visualization techniques such as heatmaps, pair plots, histograms, and ROC curves helped uncover relationships in the data, and a simple logistic regression model provided a starting point for prediction.\n",
        "\n",
        "In future work, further preprocessing of the SMILES strings, incorporation of more advanced descriptors or fingerprints, and the application of more sophisticated machine learning models could lead to improved predictions. Additionally, handling missing descriptor data and hyperparameter tuning may further enhance performance.\n",
        "\n",
        "If you found this notebook engaging and insightful, please upvote it."
      ]
    }
  ],
  "metadata": {
    "kernelspec": {
      "display_name": "Python 3",
      "language": "python",
      "name": "python3"
    },
    "language_info": {
      "name": "python",
      "version": "3.x"
    },
    "colab": {
      "name": "Drug Toxicity Prediction Notebook",
      "provenance": [],
      "include_colab_link": true
    }
  },
  "nbformat": 4,
  "nbformat_minor": 5
}